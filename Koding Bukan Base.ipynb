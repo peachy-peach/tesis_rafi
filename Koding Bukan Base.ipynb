{
 "cells": [
  {
   "cell_type": "markdown",
   "id": "dcc61431",
   "metadata": {},
   "source": [
    "# Initiation & Functions"
   ]
  },
  {
   "cell_type": "code",
   "execution_count": 1,
   "id": "ff71cba3",
   "metadata": {},
   "outputs": [],
   "source": [
    "# import\n",
    "\n",
    "import matplotlib.pyplot as plt\n",
    "from matplotlib.ticker import MultipleLocator\n",
    "import numpy as np\n",
    "import math\n",
    "import random\n",
    "\n",
    "import sys"
   ]
  },
  {
   "cell_type": "code",
   "execution_count": 220,
   "id": "ff9155b1",
   "metadata": {},
   "outputs": [],
   "source": [
    "# Membuat fungsi untuk menilai dampak policy terhadap lingkungan\n",
    "# Semakin nilai fungsi ini mendekati 0 maka semuanya akan semakin bagus\n",
    "def g(P, X):\n",
    "    i = 0\n",
    "    sigma_sx = 0\n",
    "    sigma_s = 0\n",
    "    while i < len(P):\n",
    "        sigma_sx = sigma_sx + P[i][0]*X[i]\n",
    "        sigma_s = sigma_s + P[i][0]\n",
    "        i += 1\n",
    "    return 1-(sigma_sx/sigma_s)\n",
    "\n",
    "\n",
    "\n",
    "# Membuat fungsi payoff untuk action yang mungkin di timestep berikutnya\n",
    "# untuk pemain-i.\n",
    "# player adalah pemain ke berapa yang sedang dicari payoff functionnya (ingat indeks python)\n",
    "# action adalah aksi (berapa persen (dalam desimal) investasi) pemain-i untuk timestep berikutnya\n",
    "# P adalah matriks pemain. Nanti diambil aksi pemain lain selain pemain i\n",
    "# X adalah matriks payoff\n",
    "# Fungsi ini nanti digunakan untuk memilih max_payoff{0, 1, -b/2a} dengan syarat\n",
    "# 0 <= -b/2a <= 1\n",
    "def payoff(player, action, P, X):\n",
    "    \n",
    "    sigma_min_i = 0\n",
    "    i = 0\n",
    "    while i < len(P):\n",
    "        if i != player:\n",
    "            sigma_min_i = sigma_min_i + X[i]\n",
    "        i += 1\n",
    "    \n",
    "    return (1 + alpha*(action+sigma_min_i)/N)*P[player][0]*P[player][1]*action + (1 - beta*(action+sigma_min_i)/N)*P[player][0]*P[player][2]*(1-action)\n",
    "\n",
    "\n",
    "\n",
    "# membuat fungsi untuk menghitung -b/2a\n",
    "# nanti jika 0 < -b/2a < 1 maka jadi calon titik optimum\n",
    "# player adalah pemain ke berapa yang sedang dicari -b/2a nya\n",
    "# P adalah matriks pemain. Nanti diambil aksi pemain lain selain pemain i\n",
    "# X adalah matriks payoff\n",
    "def min_b2a(player, P, X):\n",
    "    \n",
    "    sigma_min_i = 0\n",
    "    i = 0\n",
    "    while i < len(P):\n",
    "        if i != player:\n",
    "            sigma_min_i = sigma_min_i + X[i]\n",
    "        i += 1\n",
    "    \n",
    "    return -(P[player][1]*P[player][0] - P[player][2]*P[player][0] + (alpha*P[player][1]*P[player][0]*sigma_min_i + beta*P[player][2]*P[player][0]*sigma_min_i - beta*P[player][2]*P[player][0])/N)/(2*(alpha*P[player][1]*P[player][0] + beta*P[player][2]*P[player][0])/N)\n",
    "\n",
    "\n",
    "\n",
    "# mencari yang maksimal itu 0, 1, atau -b/2a\n",
    "def x_optimum(player, P, X):\n",
    "    \n",
    "    # action\n",
    "    a = 0\n",
    "    b = min_b2a(player, P, X)\n",
    "    #print(b)\n",
    "    c = 1\n",
    "    \n",
    "    maksimal = -1\n",
    "    \n",
    "    # cari maksimal\n",
    "    \n",
    "    # saat 0 < b < 1 -> berarti b masuk\n",
    "    if 0 < b < 1:\n",
    "        if payoff(player, a, P, X) >= payoff(player, b, P, X) and payoff(player, a, P, X) >= payoff(player, c, P, X):\n",
    "            maksimal = a\n",
    "        if payoff(player, b, P, X) >= payoff(player, a, P, X) and payoff(player, b, P, X) >= payoff(player, c, P, X):\n",
    "            maksimal = b\n",
    "        if payoff(player, c, P, X) >= payoff(player, a, P, X) and payoff(player, c, P, X) >= payoff(player, b, P, X):\n",
    "            maksimal = c\n",
    "    else:\n",
    "        if payoff(player, a, P, X) >= payoff(player, c, P, X):\n",
    "            maksimal = a\n",
    "        else:\n",
    "            maksimal = c\n",
    "    \n",
    "    return maksimal"
   ]
  },
  {
   "cell_type": "markdown",
   "id": "a310c524",
   "metadata": {},
   "source": [
    "# Game Initiation"
   ]
  },
  {
   "cell_type": "code",
   "execution_count": 221,
   "id": "a51a90ce",
   "metadata": {},
   "outputs": [],
   "source": [
    "# mendefinisikan permainan\n",
    "\n",
    "# pemain\n",
    "N = 4                                 # N adalah banyak pemain\n",
    "\n",
    "P = np.zeros((N,3))                   # P adalah state pemain\n",
    "P = P.tolist()                        # ini tolist agar bentuknya pake list saja karena mudah\n",
    "\n",
    "# inisiasi matriks P(S, A, B) dengan S adalah aset, A persentase keuntungan green investment, B persentase keuntungan biasa\n",
    "# untuk random S, A, B ini nanti disesuaikan range nya\n",
    "# dari ini yang penting kita asumsikan A << B menurut status quo\n",
    "\n",
    "# randomisasi untuk update nilai A dan B\n",
    "koefisien_random_A = 0.01\n",
    "koefisien_random_B = 0.01\n",
    "\n",
    "\n",
    "# state aksi yang dipilih di awal\n",
    "X = []                                # X adalah matriks yang berisi aksi setiap pemain, isinya 0 <= xi <= 1\n",
    "\n",
    "random.seed(0)                        # seed aja kalau main random inisiasi\n",
    "\n",
    "# mengisi matriks permainan P\n",
    "# dan matriks aksi X\n",
    "i = 0\n",
    "while i < N:\n",
    "    P[i][0] = random.uniform(10, 20)\n",
    "    hore = random.uniform(0, 0.005) # dalam persentase -> keunntungan ekonomi hijau\n",
    "    P[i][1] = hore                # keuntungan ekonommi hijau\n",
    "    P[i][2] = 1000*hore        # dalam persentase. Asumsi penting: P[i][2] >> P[i][1] \n",
    "    \n",
    "    # Matriks aksi dengan berbagai initial conditions\n",
    "    \n",
    "    X.append(random.uniform(0,1))\n",
    "    #X.append(0)\n",
    "    #X.append(1)\n",
    "    \n",
    "    i += 1\n",
    "\n",
    "# inisiasi alpha dan beta sebagai faktor koreksi insentif dan pajak\n",
    "# untuk nilainya nanti kita kuli satu satu dan jika N(+1) pemain nanti\n",
    "# ditentukan melalui payoff untuk pemerintah\n",
    "alpha = 1       # koefisien insentif ekonomi hijau\n",
    "beta  = 2       # koefisien pajak ekonomi tidak hijau\n",
    "\n",
    "# memasukkan time_step maksimal untuk penelitian\n",
    "# nanti time mulai dari 1 .. time_step karena untuk 0 udah dipake di list E\n",
    "# Ini BANYAKNYA RONDE PERMAINAN\n",
    "max_round = 10\n",
    "\n",
    "# Membuat list penampung, E\n",
    "# list E dan F berisi nilai emisi dari state awal permainan sampai akhir\n",
    "# semakin nilai elemen list E mendekati 0 maka semakin kecil emisi ke lingkungan\n",
    "# dari formulanya, 0 <= g(P) <= 1\n",
    "# memasukkan nilai E dan F di kondisi awal\n",
    "E = []\n",
    "E.append(g(P, X))"
   ]
  },
  {
   "cell_type": "markdown",
   "id": "f55dbd9e",
   "metadata": {},
   "source": [
    "# Game"
   ]
  },
  {
   "cell_type": "code",
   "execution_count": 222,
   "id": "fd2375ea",
   "metadata": {},
   "outputs": [],
   "source": [
    "# Keperluan plotting pemain\n",
    "P_plot = np.zeros((N,max_round+1))                   # P_plot adalah container yang berisi uang pemain per time step\n",
    "P_plot = P_plot.tolist()\n",
    "\n",
    "# Plot Actions -> aksi pemain i pada waktu j\n",
    "plot_actions = np.zeros((N, max_round+1))\n",
    "plot_actions = plot_actions.tolist()\n",
    "\n",
    "i = 0\n",
    "while i < N:\n",
    "    P_plot[i][0] = P[i][0]\n",
    "    plot_actions[i][0] = X[i]\n",
    "    i += 1\n",
    "\n",
    "    \n",
    "time_control = 1\n",
    "\n",
    "# PERMAINAN LOOP\n",
    "while time_control <= max_round:\n",
    "    # update nilai X\n",
    "    i = 0\n",
    "    while i < N:\n",
    "        X[i] = x_optimum(i, P, X)\n",
    "        i += 1\n",
    "    \n",
    "    # update matrix P berdasarkan X untuk tiap round\n",
    "    i = 0\n",
    "    while i < N:\n",
    "        \n",
    "        # keuntungan total (uang total enaknya)\n",
    "        P[i][0] = P[i][0] + payoff(i, X[i], P, X) # ini pakai payoff instead of P[i][0] += x[i]*A[i] + (1-x[i])*B[i]\n",
    "                                                  # karena kalau pakai P[i][0] += x[i]*A[i] + (1-x[i])*B[i] artinya\n",
    "                                                  # pajak dan insentif belum masuk ke perhitungan keuntungan\n",
    "        \n",
    "        # randomisasi persentase keuntungan dari ekonomi hijau dan non hijau\n",
    "        P[i][1] = P[i][1] + random.uniform(-koefisien_random_A, koefisien_random_A)*P[i][1]      # dalam persentase\n",
    "        P[i][2] = P[i][2] + random.uniform(-koefisien_random_B, koefisien_random_B)*P[i][2]      # dalam persentase\n",
    "        \n",
    "        # update P_plot\n",
    "        P_plot[i][time_control] = P[i][0]\n",
    "        # update plot action\n",
    "        plot_actions[i][time_control] = X[i]\n",
    "        \n",
    "        i += 1\n",
    "        \n",
    "    # Melihat kondisi lingkungan\n",
    "    E.append(g(P, X))\n",
    "    \n",
    "    time_control += 1"
   ]
  },
  {
   "cell_type": "markdown",
   "id": "e5b3f4dc",
   "metadata": {},
   "source": [
    "# Plotting for Analysis"
   ]
  },
  {
   "cell_type": "code",
   "execution_count": 223,
   "id": "48276d6e",
   "metadata": {},
   "outputs": [],
   "source": [
    "# making the space\n",
    "sumbu_x = []\n",
    "i = 0\n",
    "while i <= max_round:\n",
    "    sumbu_x.append(i)\n",
    "    i += 1"
   ]
  },
  {
   "cell_type": "code",
   "execution_count": 224,
   "id": "1b8b97e8",
   "metadata": {},
   "outputs": [
    {
     "data": {
      "image/png": "[encoded data removed]",
      "text/plain": [
       "<Figure size 1440x432 with 1 Axes>"
      ]
     },
     "metadata": {
      "needs_background": "light"
     },
     "output_type": "display_data"
    }
   ],
   "source": [
    "# plot kondisi lingkungan\n",
    "plt.figure(figsize=(20,6))\n",
    "plt.scatter(sumbu_x, E)\n",
    "plt.title(\"Plot of Environmental Harm Indicator on Every Time Steps\")\n",
    "plt.xlabel(\"Time\")\n",
    "plt.ylabel(\"Environmental Harm Indicator\")\n",
    "plt.grid(True)\n",
    "plt.ylim(-0.2, 1.2)\n",
    "plt.show()"
   ]
  },
  {
   "cell_type": "code",
   "execution_count": 225,
   "id": "9547a89f",
   "metadata": {},
   "outputs": [
    {
     "data": {
      "image/png": "[encoded data removed]",
      "text/plain": [
       "<Figure size 1440x432 with 1 Axes>"
      ]
     },
     "metadata": {
      "needs_background": "light"
     },
     "output_type": "display_data"
    }
   ],
   "source": [
    "# Plotting Kondisi Setiap Pemain\n",
    "\n",
    "plt.figure(figsize=(20,6))\n",
    "i = 0\n",
    "while i < N:\n",
    "    plt.plot(sumbu_x, P_plot[i])\n",
    "    i += 1\n",
    "plt.title(\"Plot of Player's Assets on Every Time Steps\")\n",
    "plt.xlabel(\"Time\")\n",
    "plt.ylabel(\"Player's Assets\")\n",
    "\n",
    "plt.show()"
   ]
  },
  {
   "cell_type": "code",
   "execution_count": 226,
   "id": "2737660b",
   "metadata": {},
   "outputs": [
    {
     "data": {
      "image/png": "[encoded data removed]",
      "text/plain": [
       "<Figure size 1440x432 with 1 Axes>"
      ]
     },
     "metadata": {
      "needs_background": "light"
     },
     "output_type": "display_data"
    }
   ],
   "source": [
    "# Plotting Actions per Rounds\n",
    "\n",
    "plt.figure(figsize=(20,6))\n",
    "i = 0\n",
    "while i < N:\n",
    "    plt.plot(sumbu_x, plot_actions[i], marker = 'o')\n",
    "    i += 1\n",
    "plt.title(\"Plot of Every Player's Action on Every Time Steps\")\n",
    "plt.xlabel(\"Time\")\n",
    "plt.ylim(-0.2, 1.2)\n",
    "plt.ylabel(\"Action (Percentage in Decimal of Investment on Green Economy)\")\n",
    "\n",
    "plt.show()"
   ]
  },
  {
   "cell_type": "code",
   "execution_count": 227,
   "id": "afe2c10f",
   "metadata": {},
   "outputs": [
    {
     "name": "stdout",
     "output_type": "stream",
     "text": [
      "Nash exist:  True\n"
     ]
    }
   ],
   "source": [
    "# Checking Numerical Nash\n",
    "dummy = np.array(plot_actions).T.tolist() # transpose\n",
    "#print(\"Player actions: \\n\", dummy, \"\\n\")\n",
    "nash = False\n",
    "i = 0\n",
    "while i < len(dummy)-1 and nash == False:\n",
    "    if dummy[i] == dummy[i + 1]:\n",
    "        nash = True\n",
    "    i = i + 1\n",
    "print(\"Nash exist: \", nash)"
   ]
  }
 ],
 "metadata": {
  "kernelspec": {
   "display_name": "Python 3 (ipykernel)",
   "language": "python",
   "name": "python3"
  },
  "language_info": {
   "codemirror_mode": {
    "name": "ipython",
    "version": 3
   },
   "file_extension": ".py",
   "mimetype": "text/x-python",
   "name": "python",
   "nbconvert_exporter": "python",
   "pygments_lexer": "ipython3",
   "version": "3.9.7"
  }
 },
 "nbformat": 4,
 "nbformat_minor": 5
}
